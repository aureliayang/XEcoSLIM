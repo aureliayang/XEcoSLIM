{
 "cells": [
  {
   "cell_type": "code",
   "execution_count": 1,
   "id": "c9ee5964-711f-40e6-bf38-4aa9cf0228db",
   "metadata": {
    "tags": []
   },
   "outputs": [],
   "source": [
    "import os\n",
    "# os.environ[\"CUDA_VISIBLE_DEVICES\"] = \"2,3\"\n",
    "import sys \n",
    "#sys.path.append(\"./models\")\n",
    "import numpy as np \n",
    "import random\n",
    "import torch\n",
    "import torch.nn as nn\n",
    "from torch.utils.data import DataLoader, ConcatDataset\n",
    "from tqdm import tqdm \n",
    "from data_loader import LoadPointsData2, LoadPointsDataTest2\n",
    "from utils import EarlyStopping, LRScheduler\n",
    "from network import Network2\n",
    "from sklearn.model_selection import KFold"
   ]
  },
  {
   "cell_type": "code",
   "execution_count": 2,
   "id": "98416aad-0690-4ce9-ac49-99d1fab3d418",
   "metadata": {
    "tags": []
   },
   "outputs": [],
   "source": [
    "batch_size = 500\n",
    "nepochs = 100\n",
    "lr = 1e-04\n",
    "use_lr_scheduler = True\n",
    "start_epoch = 0\n",
    "\n",
    "interval = 1\n",
    "step_size = 1\n",
    "\n",
    "num_seeds = \"5000\"\n",
    "data_set = \"gyre\"\n",
    "dim = 3"
   ]
  },
  {
   "cell_type": "code",
   "execution_count": 3,
   "id": "f8fbd059-4f1a-4ae6-a09a-acac486f2e27",
   "metadata": {
    "tags": []
   },
   "outputs": [
    {
     "name": "stdout",
     "output_type": "stream",
     "text": [
      "start fm and stop fm 0 512\n"
     ]
    }
   ],
   "source": [
    "start_fm = 0\n",
    "stop_fm = 512\n",
    "num_fm  = stop_fm - start_fm\n",
    "mode = 'long'\n",
    "print(\"start fm and stop fm\", start_fm, stop_fm)"
   ]
  },
  {
   "cell_type": "code",
   "execution_count": 4,
   "id": "5095ca2a-7ef8-4f74-ad21-5ab7cdef7058",
   "metadata": {
    "tags": []
   },
   "outputs": [],
   "source": [
    "network = \"network2\"\n",
    "num_encoder_layer = 3\n",
    "num_decoder_layer = 6\n",
    "latent_dim = 2048\n",
    "model_dir = \"\"\n",
    "boundings = np.loadtxt(\"./test/boundings_long_1.txt\")\n",
    "t_start = 0\n",
    "t_end = (stop_fm - start_fm) * step_size * interval"
   ]
  },
  {
   "cell_type": "code",
   "execution_count": 5,
   "id": "186021a8-d504-4139-ade4-cd187d7835fb",
   "metadata": {
    "tags": []
   },
   "outputs": [],
   "source": [
    "if not os.path.exists(\"checkpoints\"):\n",
    "    os.mkdir(\"checkpoints\")\n",
    "checkpoint_dir = os.path.join(\"checkpoints\")"
   ]
  },
  {
   "cell_type": "code",
   "execution_count": 6,
   "id": "0f755684-48c9-4612-843b-15f01657bf82",
   "metadata": {
    "tags": []
   },
   "outputs": [],
   "source": [
    "if not os.path.exists(os.path.join(\"checkpoints\", data_set)):\n",
    "    os.mkdir(os.path.join(\"checkpoints\", data_set))\n",
    "checkpoint_dir = os.path.join(\"checkpoints\", data_set)"
   ]
  },
  {
   "cell_type": "code",
   "execution_count": 7,
   "id": "ea0e7416-2267-4faf-b5ac-1a82393ac2a2",
   "metadata": {
    "tags": []
   },
   "outputs": [],
   "source": [
    "prefix = str(start_fm) + \"_\" + str(stop_fm) + \"_\" + data_set + \"_\" + num_seeds + \"_\" + network + \"_\" + str(latent_dim) + \"_\" + str(num_encoder_layer) + \"_\" + str(num_decoder_layer) \n",
    "if not os.path.exists(os.path.join(checkpoint_dir, prefix)):\n",
    "    os.mkdir(os.path.join(checkpoint_dir, prefix))\n",
    "checkpoint_dir = os.path.join(checkpoint_dir, prefix)"
   ]
  },
  {
   "cell_type": "code",
   "execution_count": 8,
   "id": "8fdebca8-3e61-4402-99a3-d52d1322103a",
   "metadata": {
    "tags": []
   },
   "outputs": [
    {
     "name": "stdout",
     "output_type": "stream",
     "text": [
      "seed [3673795]\n",
      "device:  cuda\n"
     ]
    }
   ],
   "source": [
    "##! set seed 999\n",
    "manualSeed = np.random.randint(0, 9999999, 1)\n",
    "print(\"seed\", manualSeed)\n",
    "torch.manual_seed(manualSeed)\n",
    "##! device \n",
    "device = torch.device(\"cuda\" if torch.cuda.is_available() else \"cpu\")\n",
    "print(\"device: \", device)"
   ]
  },
  {
   "cell_type": "code",
   "execution_count": 9,
   "id": "64b5a7c9-779c-4453-810d-dcdd3ada320d",
   "metadata": {
    "tags": []
   },
   "outputs": [],
   "source": [
    "train_data_npy = np.load(\"../double_gyre/double_gyre_sobol_5000.npy\")\n",
    "train_dataset = LoadPointsDataTest2(train_data_npy, interval, num_fm, dim, boundings, t_start, t_end, step_size)\n",
    "train_dataloader = DataLoader(train_dataset, batch_size=batch_size, shuffle=True, num_workers=2, drop_last=False)"
   ]
  },
  {
   "cell_type": "code",
   "execution_count": 10,
   "id": "42b94438-d58f-4f31-8d0e-ee3579c9e82c",
   "metadata": {
    "tags": []
   },
   "outputs": [
    {
     "name": "stdout",
     "output_type": "stream",
     "text": [
      "(tensor([-1., -1., -1.]), tensor([-1.0000, -1.0000, -0.9609]), tensor([-0.9961]))\n",
      "2560000\n",
      "5120\n",
      "4\n"
     ]
    }
   ],
   "source": [
    "print (train_dataloader.dataset[0])\n",
    "print (len(train_dataset))\n",
    "print (len(train_dataloader))\n",
    "print (torch.cuda.device_count())"
   ]
  },
  {
   "cell_type": "code",
   "execution_count": 11,
   "id": "bd0a6836-d7c2-4c77-9b87-2f72f528ab75",
   "metadata": {
    "tags": []
   },
   "outputs": [
    {
     "name": "stdout",
     "output_type": "stream",
     "text": [
      "0 3 384\n",
      "1 384 768\n",
      "2 768 1536\n",
      "0 1 128\n",
      "1 128 256\n",
      "2 256 512\n",
      "0 2048 2048\n",
      "1 2048 1024\n",
      "2 1024 512\n",
      "3 512 256\n",
      "4 256 128\n",
      "5 128 3\n"
     ]
    },
    {
     "data": {
      "text/plain": [
       "DataParallel(\n",
       "  (module): Network2(\n",
       "    (pos_encoder): ModuleList(\n",
       "      (0): To_Latent()\n",
       "      (1): Sine()\n",
       "      (2): To_Latent()\n",
       "      (3): Sine()\n",
       "      (4): To_Latent()\n",
       "    )\n",
       "    (activation): Sine()\n",
       "    (fc_encoder): ModuleList(\n",
       "      (0): To_Latent()\n",
       "      (1): Sine()\n",
       "      (2): To_Latent()\n",
       "      (3): Sine()\n",
       "      (4): To_Latent()\n",
       "    )\n",
       "    (decoder): ModuleList(\n",
       "      (0): To_Latent()\n",
       "      (1): Sine()\n",
       "      (2): To_Latent()\n",
       "      (3): Sine()\n",
       "      (4): To_Latent()\n",
       "      (5): Sine()\n",
       "      (6): To_Latent()\n",
       "      (7): Sine()\n",
       "      (8): To_Latent()\n",
       "      (9): Sine()\n",
       "      (10): To_Latent()\n",
       "      (11): Sine()\n",
       "    )\n",
       "  )\n",
       ")"
      ]
     },
     "execution_count": 11,
     "metadata": {},
     "output_type": "execute_result"
    }
   ],
   "source": [
    "model = Network2(dim, num_encoder_layer, num_decoder_layer, latent_dim)\n",
    "# print(model)\n",
    "if model_dir != \"\":\n",
    "    model.load_state_dict(torch.load(model_dir))\n",
    "if torch.cuda.device_count() > 1:\n",
    "    model = torch.nn.DataParallel(model)\n",
    "model.to(device)"
   ]
  },
  {
   "cell_type": "code",
   "execution_count": 12,
   "id": "5eb559dc-f398-4ea1-a1c9-b64bc4b4762b",
   "metadata": {
    "tags": []
   },
   "outputs": [
    {
     "name": "stdout",
     "output_type": "stream",
     "text": [
      "INFO: Initializing learning rate scheduler\n"
     ]
    }
   ],
   "source": [
    "L1_loss = nn.L1Loss().to(device)\n",
    "optimizer = torch.optim.Adam(model.parameters(), lr=lr, betas=(0.9, 0.999), eps=1e-06)\n",
    "\n",
    "if use_lr_scheduler:\n",
    "    print('INFO: Initializing learning rate scheduler')\n",
    "    lr_scheduler = LRScheduler(optimizer)"
   ]
  },
  {
   "cell_type": "code",
   "execution_count": 13,
   "id": "890fbc3c-fd59-4f82-9619-885bdc9a5f2b",
   "metadata": {
    "tags": []
   },
   "outputs": [],
   "source": [
    "start_time = torch.cuda.Event(enable_timing=True)\n",
    "end_time = torch.cuda.Event(enable_timing=True)\n",
    "\n",
    "train_loss = []\n",
    "# test_loss =[]"
   ]
  },
  {
   "cell_type": "code",
   "execution_count": 14,
   "id": "7d74317a-4759-4f64-82c2-f4c77f5f906f",
   "metadata": {
    "tags": []
   },
   "outputs": [
    {
     "name": "stdout",
     "output_type": "stream",
     "text": [
      "0.0001\n"
     ]
    },
    {
     "name": "stderr",
     "output_type": "stream",
     "text": [
      "5120it [02:36, 32.72it/s]\n"
     ]
    },
    {
     "name": "stdout",
     "output_type": "stream",
     "text": [
      "Average Train Loss: 0 2.8905999556183817\n",
      "0.0001\n"
     ]
    },
    {
     "name": "stderr",
     "output_type": "stream",
     "text": [
      "5120it [02:33, 33.40it/s]\n"
     ]
    },
    {
     "name": "stdout",
     "output_type": "stream",
     "text": [
      "Average Train Loss: 1 2.8402232055552306\n",
      "0.0001\n"
     ]
    },
    {
     "name": "stderr",
     "output_type": "stream",
     "text": [
      "5120it [02:32, 33.51it/s]\n"
     ]
    },
    {
     "name": "stdout",
     "output_type": "stream",
     "text": [
      "Average Train Loss: 2 2.8231762636918574\n",
      "0.0001\n"
     ]
    },
    {
     "name": "stderr",
     "output_type": "stream",
     "text": [
      "1471it [00:43, 33.67it/s]\n"
     ]
    },
    {
     "ename": "KeyboardInterrupt",
     "evalue": "",
     "output_type": "error",
     "traceback": [
      "\u001b[0;31m---------------------------------------------------------------------------\u001b[0m",
      "\u001b[0;31mKeyboardInterrupt\u001b[0m                         Traceback (most recent call last)",
      "Cell \u001b[0;32mIn[14], line 9\u001b[0m\n\u001b[1;32m      7\u001b[0m \u001b[38;5;28;01mfor\u001b[39;00m param_group \u001b[38;5;129;01min\u001b[39;00m optimizer\u001b[38;5;241m.\u001b[39mparam_groups:\n\u001b[1;32m      8\u001b[0m     \u001b[38;5;28mprint\u001b[39m(param_group[\u001b[38;5;124m'\u001b[39m\u001b[38;5;124mlr\u001b[39m\u001b[38;5;124m'\u001b[39m])\n\u001b[0;32m----> 9\u001b[0m \u001b[38;5;28;01mfor\u001b[39;00m i, data \u001b[38;5;129;01min\u001b[39;00m tqdm(\u001b[38;5;28menumerate\u001b[39m(train_dataloader)):\n\u001b[1;32m     10\u001b[0m \u001b[38;5;66;03m# for i, data in enumerate(train_dataloader):\u001b[39;00m\n\u001b[1;32m     11\u001b[0m \u001b[38;5;66;03m#enumerate(tqdm(train_dataloader)):\u001b[39;00m\n\u001b[1;32m     12\u001b[0m     start \u001b[38;5;241m=\u001b[39m data[\u001b[38;5;241m0\u001b[39m]\u001b[38;5;241m.\u001b[39mto(device)\n\u001b[1;32m     13\u001b[0m     end \u001b[38;5;241m=\u001b[39m data[\u001b[38;5;241m1\u001b[39m]\u001b[38;5;241m.\u001b[39mto(device)\n",
      "File \u001b[0;32m~/anaconda3/envs/myenv/lib/python3.11/site-packages/tqdm/std.py:1178\u001b[0m, in \u001b[0;36mtqdm.__iter__\u001b[0;34m(self)\u001b[0m\n\u001b[1;32m   1175\u001b[0m time \u001b[38;5;241m=\u001b[39m \u001b[38;5;28mself\u001b[39m\u001b[38;5;241m.\u001b[39m_time\n\u001b[1;32m   1177\u001b[0m \u001b[38;5;28;01mtry\u001b[39;00m:\n\u001b[0;32m-> 1178\u001b[0m     \u001b[38;5;28;01mfor\u001b[39;00m obj \u001b[38;5;129;01min\u001b[39;00m iterable:\n\u001b[1;32m   1179\u001b[0m         \u001b[38;5;28;01myield\u001b[39;00m obj\n\u001b[1;32m   1180\u001b[0m         \u001b[38;5;66;03m# Update and possibly print the progressbar.\u001b[39;00m\n\u001b[1;32m   1181\u001b[0m         \u001b[38;5;66;03m# Note: does not call self.update(1) for speed optimisation.\u001b[39;00m\n",
      "File \u001b[0;32m~/anaconda3/envs/myenv/lib/python3.11/site-packages/torch/utils/data/dataloader.py:633\u001b[0m, in \u001b[0;36m_BaseDataLoaderIter.__next__\u001b[0;34m(self)\u001b[0m\n\u001b[1;32m    630\u001b[0m \u001b[38;5;28;01mif\u001b[39;00m \u001b[38;5;28mself\u001b[39m\u001b[38;5;241m.\u001b[39m_sampler_iter \u001b[38;5;129;01mis\u001b[39;00m \u001b[38;5;28;01mNone\u001b[39;00m:\n\u001b[1;32m    631\u001b[0m     \u001b[38;5;66;03m# TODO(https://github.com/pytorch/pytorch/issues/76750)\u001b[39;00m\n\u001b[1;32m    632\u001b[0m     \u001b[38;5;28mself\u001b[39m\u001b[38;5;241m.\u001b[39m_reset()  \u001b[38;5;66;03m# type: ignore[call-arg]\u001b[39;00m\n\u001b[0;32m--> 633\u001b[0m data \u001b[38;5;241m=\u001b[39m \u001b[38;5;28mself\u001b[39m\u001b[38;5;241m.\u001b[39m_next_data()\n\u001b[1;32m    634\u001b[0m \u001b[38;5;28mself\u001b[39m\u001b[38;5;241m.\u001b[39m_num_yielded \u001b[38;5;241m+\u001b[39m\u001b[38;5;241m=\u001b[39m \u001b[38;5;241m1\u001b[39m\n\u001b[1;32m    635\u001b[0m \u001b[38;5;28;01mif\u001b[39;00m \u001b[38;5;28mself\u001b[39m\u001b[38;5;241m.\u001b[39m_dataset_kind \u001b[38;5;241m==\u001b[39m _DatasetKind\u001b[38;5;241m.\u001b[39mIterable \u001b[38;5;129;01mand\u001b[39;00m \\\n\u001b[1;32m    636\u001b[0m         \u001b[38;5;28mself\u001b[39m\u001b[38;5;241m.\u001b[39m_IterableDataset_len_called \u001b[38;5;129;01mis\u001b[39;00m \u001b[38;5;129;01mnot\u001b[39;00m \u001b[38;5;28;01mNone\u001b[39;00m \u001b[38;5;129;01mand\u001b[39;00m \\\n\u001b[1;32m    637\u001b[0m         \u001b[38;5;28mself\u001b[39m\u001b[38;5;241m.\u001b[39m_num_yielded \u001b[38;5;241m>\u001b[39m \u001b[38;5;28mself\u001b[39m\u001b[38;5;241m.\u001b[39m_IterableDataset_len_called:\n",
      "File \u001b[0;32m~/anaconda3/envs/myenv/lib/python3.11/site-packages/torch/utils/data/dataloader.py:677\u001b[0m, in \u001b[0;36m_SingleProcessDataLoaderIter._next_data\u001b[0;34m(self)\u001b[0m\n\u001b[1;32m    675\u001b[0m \u001b[38;5;28;01mdef\u001b[39;00m \u001b[38;5;21m_next_data\u001b[39m(\u001b[38;5;28mself\u001b[39m):\n\u001b[1;32m    676\u001b[0m     index \u001b[38;5;241m=\u001b[39m \u001b[38;5;28mself\u001b[39m\u001b[38;5;241m.\u001b[39m_next_index()  \u001b[38;5;66;03m# may raise StopIteration\u001b[39;00m\n\u001b[0;32m--> 677\u001b[0m     data \u001b[38;5;241m=\u001b[39m \u001b[38;5;28mself\u001b[39m\u001b[38;5;241m.\u001b[39m_dataset_fetcher\u001b[38;5;241m.\u001b[39mfetch(index)  \u001b[38;5;66;03m# may raise StopIteration\u001b[39;00m\n\u001b[1;32m    678\u001b[0m     \u001b[38;5;28;01mif\u001b[39;00m \u001b[38;5;28mself\u001b[39m\u001b[38;5;241m.\u001b[39m_pin_memory:\n\u001b[1;32m    679\u001b[0m         data \u001b[38;5;241m=\u001b[39m _utils\u001b[38;5;241m.\u001b[39mpin_memory\u001b[38;5;241m.\u001b[39mpin_memory(data, \u001b[38;5;28mself\u001b[39m\u001b[38;5;241m.\u001b[39m_pin_memory_device)\n",
      "File \u001b[0;32m~/anaconda3/envs/myenv/lib/python3.11/site-packages/torch/utils/data/_utils/fetch.py:54\u001b[0m, in \u001b[0;36m_MapDatasetFetcher.fetch\u001b[0;34m(self, possibly_batched_index)\u001b[0m\n\u001b[1;32m     52\u001b[0m \u001b[38;5;28;01melse\u001b[39;00m:\n\u001b[1;32m     53\u001b[0m     data \u001b[38;5;241m=\u001b[39m \u001b[38;5;28mself\u001b[39m\u001b[38;5;241m.\u001b[39mdataset[possibly_batched_index]\n\u001b[0;32m---> 54\u001b[0m \u001b[38;5;28;01mreturn\u001b[39;00m \u001b[38;5;28mself\u001b[39m\u001b[38;5;241m.\u001b[39mcollate_fn(data)\n",
      "File \u001b[0;32m~/anaconda3/envs/myenv/lib/python3.11/site-packages/torch/utils/data/_utils/collate.py:265\u001b[0m, in \u001b[0;36mdefault_collate\u001b[0;34m(batch)\u001b[0m\n\u001b[1;32m    204\u001b[0m \u001b[38;5;28;01mdef\u001b[39;00m \u001b[38;5;21mdefault_collate\u001b[39m(batch):\n\u001b[1;32m    205\u001b[0m \u001b[38;5;250m    \u001b[39m\u001b[38;5;124mr\u001b[39m\u001b[38;5;124;03m\"\"\"\u001b[39;00m\n\u001b[1;32m    206\u001b[0m \u001b[38;5;124;03m        Function that takes in a batch of data and puts the elements within the batch\u001b[39;00m\n\u001b[1;32m    207\u001b[0m \u001b[38;5;124;03m        into a tensor with an additional outer dimension - batch size. The exact output type can be\u001b[39;00m\n\u001b[0;32m   (...)\u001b[0m\n\u001b[1;32m    263\u001b[0m \u001b[38;5;124;03m            >>> default_collate(batch)  # Handle `CustomType` automatically\u001b[39;00m\n\u001b[1;32m    264\u001b[0m \u001b[38;5;124;03m    \"\"\"\u001b[39;00m\n\u001b[0;32m--> 265\u001b[0m     \u001b[38;5;28;01mreturn\u001b[39;00m collate(batch, collate_fn_map\u001b[38;5;241m=\u001b[39mdefault_collate_fn_map)\n",
      "File \u001b[0;32m~/anaconda3/envs/myenv/lib/python3.11/site-packages/torch/utils/data/_utils/collate.py:142\u001b[0m, in \u001b[0;36mcollate\u001b[0;34m(batch, collate_fn_map)\u001b[0m\n\u001b[1;32m    139\u001b[0m transposed \u001b[38;5;241m=\u001b[39m \u001b[38;5;28mlist\u001b[39m(\u001b[38;5;28mzip\u001b[39m(\u001b[38;5;241m*\u001b[39mbatch))  \u001b[38;5;66;03m# It may be accessed twice, so we use a list.\u001b[39;00m\n\u001b[1;32m    141\u001b[0m \u001b[38;5;28;01mif\u001b[39;00m \u001b[38;5;28misinstance\u001b[39m(elem, \u001b[38;5;28mtuple\u001b[39m):\n\u001b[0;32m--> 142\u001b[0m     \u001b[38;5;28;01mreturn\u001b[39;00m [collate(samples, collate_fn_map\u001b[38;5;241m=\u001b[39mcollate_fn_map) \u001b[38;5;28;01mfor\u001b[39;00m samples \u001b[38;5;129;01min\u001b[39;00m transposed]  \u001b[38;5;66;03m# Backwards compatibility.\u001b[39;00m\n\u001b[1;32m    143\u001b[0m \u001b[38;5;28;01melse\u001b[39;00m:\n\u001b[1;32m    144\u001b[0m     \u001b[38;5;28;01mtry\u001b[39;00m:\n",
      "File \u001b[0;32m~/anaconda3/envs/myenv/lib/python3.11/site-packages/torch/utils/data/_utils/collate.py:142\u001b[0m, in \u001b[0;36m<listcomp>\u001b[0;34m(.0)\u001b[0m\n\u001b[1;32m    139\u001b[0m transposed \u001b[38;5;241m=\u001b[39m \u001b[38;5;28mlist\u001b[39m(\u001b[38;5;28mzip\u001b[39m(\u001b[38;5;241m*\u001b[39mbatch))  \u001b[38;5;66;03m# It may be accessed twice, so we use a list.\u001b[39;00m\n\u001b[1;32m    141\u001b[0m \u001b[38;5;28;01mif\u001b[39;00m \u001b[38;5;28misinstance\u001b[39m(elem, \u001b[38;5;28mtuple\u001b[39m):\n\u001b[0;32m--> 142\u001b[0m     \u001b[38;5;28;01mreturn\u001b[39;00m [collate(samples, collate_fn_map\u001b[38;5;241m=\u001b[39mcollate_fn_map) \u001b[38;5;28;01mfor\u001b[39;00m samples \u001b[38;5;129;01min\u001b[39;00m transposed]  \u001b[38;5;66;03m# Backwards compatibility.\u001b[39;00m\n\u001b[1;32m    143\u001b[0m \u001b[38;5;28;01melse\u001b[39;00m:\n\u001b[1;32m    144\u001b[0m     \u001b[38;5;28;01mtry\u001b[39;00m:\n",
      "File \u001b[0;32m~/anaconda3/envs/myenv/lib/python3.11/site-packages/torch/utils/data/_utils/collate.py:119\u001b[0m, in \u001b[0;36mcollate\u001b[0;34m(batch, collate_fn_map)\u001b[0m\n\u001b[1;32m    117\u001b[0m \u001b[38;5;28;01mif\u001b[39;00m collate_fn_map \u001b[38;5;129;01mis\u001b[39;00m \u001b[38;5;129;01mnot\u001b[39;00m \u001b[38;5;28;01mNone\u001b[39;00m:\n\u001b[1;32m    118\u001b[0m     \u001b[38;5;28;01mif\u001b[39;00m elem_type \u001b[38;5;129;01min\u001b[39;00m collate_fn_map:\n\u001b[0;32m--> 119\u001b[0m         \u001b[38;5;28;01mreturn\u001b[39;00m collate_fn_map[elem_type](batch, collate_fn_map\u001b[38;5;241m=\u001b[39mcollate_fn_map)\n\u001b[1;32m    121\u001b[0m     \u001b[38;5;28;01mfor\u001b[39;00m collate_type \u001b[38;5;129;01min\u001b[39;00m collate_fn_map:\n\u001b[1;32m    122\u001b[0m         \u001b[38;5;28;01mif\u001b[39;00m \u001b[38;5;28misinstance\u001b[39m(elem, collate_type):\n",
      "File \u001b[0;32m~/anaconda3/envs/myenv/lib/python3.11/site-packages/torch/utils/data/_utils/collate.py:162\u001b[0m, in \u001b[0;36mcollate_tensor_fn\u001b[0;34m(batch, collate_fn_map)\u001b[0m\n\u001b[1;32m    160\u001b[0m     storage \u001b[38;5;241m=\u001b[39m elem\u001b[38;5;241m.\u001b[39m_typed_storage()\u001b[38;5;241m.\u001b[39m_new_shared(numel, device\u001b[38;5;241m=\u001b[39melem\u001b[38;5;241m.\u001b[39mdevice)\n\u001b[1;32m    161\u001b[0m     out \u001b[38;5;241m=\u001b[39m elem\u001b[38;5;241m.\u001b[39mnew(storage)\u001b[38;5;241m.\u001b[39mresize_(\u001b[38;5;28mlen\u001b[39m(batch), \u001b[38;5;241m*\u001b[39m\u001b[38;5;28mlist\u001b[39m(elem\u001b[38;5;241m.\u001b[39msize()))\n\u001b[0;32m--> 162\u001b[0m \u001b[38;5;28;01mreturn\u001b[39;00m torch\u001b[38;5;241m.\u001b[39mstack(batch, \u001b[38;5;241m0\u001b[39m, out\u001b[38;5;241m=\u001b[39mout)\n",
      "\u001b[0;31mKeyboardInterrupt\u001b[0m: "
     ]
    }
   ],
   "source": [
    "start_time.record()\n",
    "\n",
    "for epoch in range(start_epoch, start_epoch + nepochs):\n",
    "    avg_train_loss = 0\n",
    "    # train_bar = tqdm(enumerate(train_dataloader))\n",
    "    model.train()\n",
    "    for param_group in optimizer.param_groups:\n",
    "        print(param_group['lr'])\n",
    "    for i, data in tqdm(enumerate(train_dataloader)):\n",
    "    # for i, data in enumerate(train_dataloader):\n",
    "    #enumerate(tqdm(train_dataloader)):\n",
    "        start = data[0].to(device)\n",
    "        end = data[1].to(device)\n",
    "        t = data[2].to(device)\n",
    "\n",
    "        model.zero_grad()\n",
    "        pred = model(start, t)\n",
    "        loss = L1_loss(pred, end)\n",
    "        loss.backward()\n",
    "        optimizer.step()\n",
    "        avg_train_loss = avg_train_loss + loss.item()\n",
    "\n",
    "    train_loss.append(avg_train_loss / len(train_dataloader))\n",
    "    print(\"Average Train Loss:\", epoch, avg_train_loss / len(train_dataloader))\n",
    "\n",
    "    if (epoch + 1) % 50 == 0:\n",
    "        \n",
    "        # save model \n",
    "        path = os.path.join(checkpoint_dir, \"model_\" + str(epoch+1) + \".pth\")\n",
    "        if torch.cuda.device_count() > 1:\n",
    "            torch.save(model.module.state_dict(), path)\n",
    "        else:\n",
    "            torch.save(model.state_dict(), path)\n",
    " \n",
    "end_time.record()\n",
    "\n",
    "torch.cuda.synchronize()\n",
    "train_path = os.path.join(checkpoint_dir, \"train_loss.npy\")\n",
    "np.save(train_path, train_loss)\n",
    "# test_path = os.path.join(checkpoint_dir, \"test_loss.npy\")\n",
    "# np.save(test_path, test_loss)"
   ]
  },
  {
   "cell_type": "code",
   "execution_count": 2,
   "id": "027bfabf-0525-490a-b067-99c4e8c29573",
   "metadata": {
    "tags": []
   },
   "outputs": [],
   "source": [
    "from matplotlib import pyplot as plt\n",
    "import numpy as np "
   ]
  },
  {
   "cell_type": "code",
   "execution_count": 87,
   "id": "a3103209-1065-44a8-b7d5-177ad323dbfe",
   "metadata": {
    "tags": []
   },
   "outputs": [
    {
     "name": "stdout",
     "output_type": "stream",
     "text": [
      "(513, 5000, 3)\n"
     ]
    }
   ],
   "source": [
    "train_data_npy = np.load(\"../double_gyre/double_gyre_sobol_5000.npy\")\n",
    "print(train_data_npy.shape)"
   ]
  },
  {
   "cell_type": "code",
   "execution_count": 4,
   "id": "892a7e49-b314-4c98-a808-145686041927",
   "metadata": {
    "tags": []
   },
   "outputs": [
    {
     "name": "stdout",
     "output_type": "stream",
     "text": [
      "[[0.        0.        0.0391389]\n",
      " [0.999997  0.48771   0.0391389]\n",
      " [1.50869   0.250056  0.0391389]\n",
      " ...\n",
      " [1.12434   0.937262  0.0391389]\n",
      " [1.6382    0.192254  0.0391389]\n",
      " [0.635178  0.68542   0.0391389]]\n"
     ]
    }
   ],
   "source": [
    "print(train_data_npy[2,:,:])"
   ]
  },
  {
   "cell_type": "code",
   "execution_count": 6,
   "id": "d8c681bb-9a13-4d7b-8633-1313b2212acd",
   "metadata": {},
   "outputs": [
    {
     "data": {
      "text/plain": [
       "<matplotlib.collections.PathCollection at 0x1511b48be760>"
      ]
     },
     "execution_count": 6,
     "metadata": {},
     "output_type": "execute_result"
    },
    {
     "data": {
      "image/png": "[encoded data removed]",
      "text/plain": [
       "<Figure size 640x480 with 1 Axes>"
      ]
     },
     "metadata": {},
     "output_type": "display_data"
    }
   ],
   "source": [
    "plt.scatter(train_data_npy[:,100,0],train_data_npy[:,100,1])"
   ]
  }
 ],
 "metadata": {
  "kernelspec": {
   "display_name": "Python 3 (ipykernel)",
   "language": "python",
   "name": "python3"
  },
  "language_info": {
   "codemirror_mode": {
    "name": "ipython",
    "version": 3
   },
   "file_extension": ".py",
   "mimetype": "text/x-python",
   "name": "python",
   "nbconvert_exporter": "python",
   "pygments_lexer": "ipython3",
   "version": "3.11.4"
  }
 },
 "nbformat": 4,
 "nbformat_minor": 5
}
