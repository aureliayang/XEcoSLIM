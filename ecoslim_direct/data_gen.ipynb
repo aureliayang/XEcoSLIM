{
 "cells": [
  {
   "cell_type": "code",
   "execution_count": 1,
   "id": "5e0641cb-b789-42c8-8563-cef96cb83967",
   "metadata": {
    "tags": []
   },
   "outputs": [],
   "source": [
    "%reset -f\n",
    "from parflow import Run\n",
    "from parflow.tools.fs import get_absolute_path\n",
    "from parflow.tools.io import write_pfb, read_pfb\n",
    "import numpy as np\n",
    "from matplotlib import pyplot as plt\n",
    "from parflow.tools.hydrology import calculate_water_table_depth, \\\n",
    "calculate_overland_flow_grid, calculate_overland_fluxes\n",
    "# %matplotlib widget"
   ]
  },
  {
   "cell_type": "code",
   "execution_count": 3,
   "id": "109fffd7-fa68-48e8-a0c9-67178f9d1103",
   "metadata": {
    "tags": []
   },
   "outputs": [
    {
     "name": "stdout",
     "output_type": "stream",
     "text": [
      "[0.25 0.75 1.25 1.75 2.25 2.75 3.25 3.75 4.25 4.75 5.25 5.75 6.25 6.75\n",
      " 7.25 7.75 8.25 8.75 9.15 9.35]\n"
     ]
    }
   ],
   "source": [
    "nx = 20\n",
    "ny = 5\n",
    "nz = 20\n",
    "dx = 5\n",
    "dy = 0.2\n",
    "dz = np.array([0.5, 0.5, 0.5, 0.5, 0.5, 0.5, 0.5, 0.5, 0.5, 0.5, \\\n",
    "               0.5, 0.5, 0.5, 0.5, 0.5, 0.5, 0.5, 0.5, 0.3, 0.1])\n",
    "ztemp = np.cumsum(dz) - dz/2.\n",
    "print(ztemp)"
   ]
  },
  {
   "cell_type": "code",
   "execution_count": 4,
   "id": "1411349b-efb0-4112-8443-af548410ac4c",
   "metadata": {
    "tags": []
   },
   "outputs": [
    {
     "name": "stdout",
     "output_type": "stream",
     "text": [
      "(20, 5, 21) (20, 6, 20) (21, 5, 20)\n"
     ]
    }
   ],
   "source": [
    "Vx = read_pfb(get_absolute_path('./vel_field/hillslope_clm_ER_shrub.out.velx.43800.pfb'))\n",
    "Vy = read_pfb(get_absolute_path('./vel_field/hillslope_clm_ER_shrub.out.vely.43800.pfb'))\n",
    "Vz = read_pfb(get_absolute_path('./vel_field/hillslope_clm_ER_shrub.out.velz.43800.pfb'))\n",
    "Saturation = read_pfb(get_absolute_path('./vel_field/hillslope_clm_ER_shrub.out.satur.43800.pfb'))\n",
    "Porosity = read_pfb(get_absolute_path('./vel_field/hillslope_clm_ER_shrub.out.porosity.pfb'))\n",
    "print(Vx.shape, Vy.shape, Vz.shape)"
   ]
  },
  {
   "cell_type": "code",
   "execution_count": 5,
   "id": "43dca314-f810-49d3-8aaa-a35e3a309ab8",
   "metadata": {
    "tags": []
   },
   "outputs": [],
   "source": [
    "#setup indices\n",
    "\n",
    "indx = np.zeros((nz,ny,nx))\n",
    "for i in range(nx):  \n",
    "    indx[:,:,i] = np.ones((nz,ny)) * i\n",
    "# print(indx[10,:,:])\n",
    "\n",
    "indy = np.zeros((nz,ny,nx))\n",
    "for j in range(ny):  \n",
    "    indy[:,j,:] = np.ones((nz,nx)) * j\n",
    "# print(indy[10,:,:])\n",
    "\n",
    "indz = np.zeros((nz,ny,nx))\n",
    "for k in range(nz):  \n",
    "    indz[k,:,:] = np.ones((ny,nx)) * k\n",
    "# print(indz[10,:,:])"
   ]
  },
  {
   "cell_type": "code",
   "execution_count": 6,
   "id": "4ad91486-ca14-4985-b118-749ad89031e1",
   "metadata": {
    "tags": []
   },
   "outputs": [],
   "source": [
    "#setup initial location\n",
    "npcell = 40\n",
    "\n",
    "initx = np.zeros((npcell,nz,ny,nx))\n",
    "inity = np.zeros((npcell,nz,ny,nx))\n",
    "initz = np.zeros((npcell,nz,ny,nx))\n",
    "\n",
    "# generate random numbers\n",
    "# uniform distribution between 0 and 1 with mean of 0.5 and std of 1/(2*sqrt(3))\n",
    "\n",
    "for i in range(npcell):\n",
    "    randx = np.random.uniform(low=0.0, high=1.0, size=(nz,ny,nx))\n",
    "    randy = np.random.uniform(low=0.0, high=1.0, size=(nz,ny,nx))\n",
    "    initx[i,:,:,:] = (indx + randx)*dx\n",
    "    inity[i,:,:,:] = (indy + randy)*dy\n",
    "    initz[i,:,:,:] = ztemp[:, np.newaxis, np.newaxis]\n",
    "# initz[1,19,:,:]"
   ]
  },
  {
   "cell_type": "code",
   "execution_count": 7,
   "id": "90341191-a178-4fee-9afe-3f5a4c33fb63",
   "metadata": {
    "tags": []
   },
   "outputs": [],
   "source": [
    "#cal locid\n",
    "Px = np.copy(initx)\n",
    "Py = np.copy(inity)\n",
    "Pz = np.copy(initz)\n",
    "\n",
    "Plocx = np.floor(Px/dx)\n",
    "Plocy = np.floor(Py/dy)\n",
    "\n",
    "# Plocz = np.where(ztemp == Pz[:,:,:,:,None])[4]\n",
    "# Plocz = Plocz.reshape(npcell,nz,ny,nx)\n",
    "Plocz = np.zeros((npcell,nz,ny,nx))\n",
    "\n",
    "for ii in range(npcell):\n",
    "    for i in range(nz):\n",
    "        for j in range(ny):\n",
    "            for k in range(nx):\n",
    "                zz = 0\n",
    "                for ll in range(nz):\n",
    "                    zz = zz + dz[ll]\n",
    "                    if zz >= Pz[ii,i,j,k]:\n",
    "                        Plocz[ii,i,j,k] = ll-1\n",
    "                        break            "
   ]
  },
  {
   "cell_type": "code",
   "execution_count": 10,
   "id": "a7aa8dde-bc8f-4d46-8f1b-6353dcde864b",
   "metadata": {
    "tags": []
   },
   "outputs": [
    {
     "data": {
      "text/plain": [
       "array([[-1., -1., -1., -1., -1., -1., -1., -1., -1., -1., -1., -1., -1.,\n",
       "        -1., -1., -1., -1., -1., -1., -1.],\n",
       "       [-1., -1., -1., -1., -1., -1., -1., -1., -1., -1., -1., -1., -1.,\n",
       "        -1., -1., -1., -1., -1., -1., -1.],\n",
       "       [-1., -1., -1., -1., -1., -1., -1., -1., -1., -1., -1., -1., -1.,\n",
       "        -1., -1., -1., -1., -1., -1., -1.],\n",
       "       [-1., -1., -1., -1., -1., -1., -1., -1., -1., -1., -1., -1., -1.,\n",
       "        -1., -1., -1., -1., -1., -1., -1.],\n",
       "       [-1., -1., -1., -1., -1., -1., -1., -1., -1., -1., -1., -1., -1.,\n",
       "        -1., -1., -1., -1., -1., -1., -1.]])"
      ]
     },
     "execution_count": 10,
     "metadata": {},
     "output_type": "execute_result"
    }
   ],
   "source": [
    "Plocz[0,0,:,:]"
   ]
  },
  {
   "cell_type": "code",
   "execution_count": 11,
   "id": "2bee5f43-9c75-4b57-b7e7-bc1e188f73bf",
   "metadata": {
    "tags": []
   },
   "outputs": [],
   "source": [
    "#cal vel loc\n",
    "\n",
    "Clocx = (Px - Plocx*dx)/dx\n",
    "Clocy = (Py - Plocy*dy)/dy\n",
    "Clocz = np.zeros((npcell,nz,ny,nx))\n",
    "\n",
    "for ii in range(npcell):\n",
    "    for i in range(nz):\n",
    "        for j in range(ny):\n",
    "            for k in range(nx):\n",
    "                zz = 0\n",
    "                temp = int(Plocz[ii,i,j,k]) + 1\n",
    "                if temp > 0:\n",
    "                    zz = np.sum(dz[0:temp])\n",
    "                # print(Pz[ii,i,j,k], zz, temp+1)\n",
    "                Clocz[ii,i,j,k] = (Pz[ii,i,j,k] - zz)/dz[temp]"
   ]
  },
  {
   "cell_type": "code",
   "execution_count": 136,
   "id": "408e6b9d-b1f6-4b80-a04f-5db5f0576bcc",
   "metadata": {
    "tags": []
   },
   "outputs": [],
   "source": [
    "Vpx = np.zeros((npcell,nz,ny,nx))\n",
    "Vpy = np.zeros((npcell,nz,ny,nx))\n",
    "Vpz = np.zeros((npcell,nz,ny,nx))\n",
    "\n",
    "for ii in range(npcell):\n",
    "    for i in range(nz):\n",
    "        for j in range(ny):\n",
    "            for k in range(nz):\n",
    "                \n",
    "                tempx = Plocx[ii,i,j,k]\n",
    "                tempy = Plocy[ii,i,j,k]\n",
    "                tempz = Plocz[ii,i,j,k] + 1\n",
    "                    \n",
    "                Vpx[ii,i,j,k] = ((1 - Clocx[ii,i,j,k])*Vx[tempz,tempy,tempx] + \\\n",
    "                                Clocx[ii,i,j,k]*Vx[tempz,tempy,tempx+1])/ \\\n",
    "                                Saturation[tempz,tempy,tempx]/Porosity[tempz,tempy,tempx]\n",
    "                \n",
    "                Vpy[ii,i,j,k] = ((1 - Clocy[ii,i,j,k])*Vy[tempz,tempy,tempx] + \\\n",
    "                                Clocy[ii,i,j,k]*Vy[tempz,tempy+1,tempx])/ \\\n",
    "                                Saturation[tempz,tempy,tempx]/Porosity[tempz,tempy,tempx]\n",
    "                \n",
    "                Vpz[ii,i,j,k] = ((1 - Clocz[ii,i,j,k])*Vz[tempz,tempy,tempx] + \\\n",
    "                                Clocz[ii,i,j,k]*Vz[tempz+1,tempy,tempx])/ \\\n",
    "                                Saturation[tempz,tempy,tempx]/Porosity[tempz,tempy,tempx]"
   ]
  },
  {
   "cell_type": "code",
   "execution_count": null,
   "id": "fd3e4ee5-a744-485e-b49e-2808fbb7b196",
   "metadata": {},
   "outputs": [],
   "source": [
    "Px = Px + Vpx\n",
    "Py = Py + Vpy\n",
    "Pz = Pz + Vpz"
   ]
  }
 ],
 "metadata": {
  "kernelspec": {
   "display_name": "Python 3 (ipykernel)",
   "language": "python",
   "name": "python3"
  },
  "language_info": {
   "codemirror_mode": {
    "name": "ipython",
    "version": 3
   },
   "file_extension": ".py",
   "mimetype": "text/x-python",
   "name": "python",
   "nbconvert_exporter": "python",
   "pygments_lexer": "ipython3",
   "version": "3.11.4"
  }
 },
 "nbformat": 4,
 "nbformat_minor": 5
}
