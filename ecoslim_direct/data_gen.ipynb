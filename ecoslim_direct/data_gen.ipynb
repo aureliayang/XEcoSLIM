{
 "cells": [
  {
   "cell_type": "code",
   "execution_count": 1,
   "id": "5e0641cb-b789-42c8-8563-cef96cb83967",
   "metadata": {
    "tags": []
   },
   "outputs": [],
   "source": [
    "%reset -f\n",
    "from parflow import Run\n",
    "from parflow.tools.fs import get_absolute_path\n",
    "from parflow.tools.io import write_pfb, read_pfb\n",
    "import numpy as np\n",
    "from matplotlib import pyplot as plt\n",
    "import torch\n",
    "from torch.utils.data import TensorDataset\n",
    "from utils import init_location, cal_z_locid, cal_velz_loc, \\\n",
    "                  interpolate_vel, data_normalize, To_Tensor\n",
    "# from parflow.tools.hydrology import calculate_water_table_depth, \\\n",
    "# calculate_overland_flow_grid, calculate_overland_fluxes\n",
    "# %matplotlib widget"
   ]
  },
  {
   "cell_type": "code",
   "execution_count": 2,
   "id": "2c172821-d9b8-4e42-8428-ced7323805ba",
   "metadata": {
    "tags": []
   },
   "outputs": [],
   "source": [
    "p_start = 35040\n",
    "t_start = 0 #iteration start\n",
    "t_end = 40 #iteration end\n",
    "real_path = 'False'\n",
    "\n",
    "npcell = 10  #used for train\n",
    "testsize = 1  #used for test\n",
    "npcell = npcell + testsize  #all\n",
    "# how many particles in a grid cell\n",
    "\n",
    "interval = 1 #always no gap\n",
    "step_size = 1 #always one hour"
   ]
  },
  {
   "cell_type": "code",
   "execution_count": 3,
   "id": "109fffd7-fa68-48e8-a0c9-67178f9d1103",
   "metadata": {
    "tags": []
   },
   "outputs": [],
   "source": [
    "# input model parameters\n",
    "nx = 20\n",
    "ny = 5\n",
    "nz = 20\n",
    "\n",
    "dx = 5\n",
    "dy = 0.2\n",
    "dz = np.array([0.5, 0.5, 0.5, 0.5, 0.5, 0.5, 0.5, 0.5, 0.5, 0.5, \\\n",
    "               0.5, 0.5, 0.5, 0.5, 0.5, 0.5, 0.5, 0.5, 0.3, 0.1])\n",
    "boundings = np.array([0., 100., 0., 1., 0., 9.4])"
   ]
  },
  {
   "cell_type": "code",
   "execution_count": 4,
   "id": "4ede4b21-1f5d-4c05-b4a8-5a6cfe1e1411",
   "metadata": {
    "tags": []
   },
   "outputs": [
    {
     "name": "stdout",
     "output_type": "stream",
     "text": [
      "istep 1\n",
      "real_path False\n",
      "istep 2\n",
      "real_path False\n",
      "istep 3\n",
      "real_path False\n",
      "istep 4\n",
      "real_path False\n",
      "istep 5\n",
      "real_path False\n",
      "istep 6\n",
      "real_path False\n",
      "istep 7\n",
      "real_path False\n",
      "istep 8\n",
      "real_path False\n",
      "istep 9\n",
      "real_path False\n",
      "istep 10\n",
      "real_path False\n",
      "istep 11\n",
      "real_path False\n",
      "istep 12\n",
      "real_path False\n",
      "istep 13\n",
      "real_path False\n",
      "istep 14\n",
      "real_path False\n",
      "istep 15\n",
      "real_path False\n",
      "istep 16\n",
      "real_path False\n",
      "istep 17\n",
      "real_path False\n",
      "istep 18\n",
      "real_path False\n",
      "istep 19\n",
      "real_path False\n",
      "istep 20\n",
      "real_path False\n",
      "istep 21\n",
      "real_path False\n",
      "istep 22\n",
      "real_path False\n",
      "istep 23\n",
      "real_path False\n",
      "istep 24\n",
      "real_path False\n",
      "istep 25\n",
      "real_path False\n",
      "istep 26\n",
      "real_path False\n",
      "istep 27\n",
      "real_path False\n",
      "istep 28\n",
      "real_path False\n",
      "istep 29\n",
      "real_path False\n",
      "istep 30\n",
      "real_path False\n",
      "istep 31\n",
      "real_path False\n",
      "istep 32\n",
      "real_path False\n",
      "istep 33\n",
      "real_path False\n",
      "istep 34\n",
      "real_path False\n",
      "istep 35\n",
      "real_path False\n",
      "istep 36\n",
      "real_path False\n",
      "istep 37\n",
      "real_path False\n",
      "istep 38\n",
      "real_path False\n",
      "istep 39\n",
      "real_path False\n",
      "istep 40\n",
      "real_path False\n"
     ]
    }
   ],
   "source": [
    "for ii in range(t_start,t_end):\n",
    "    \n",
    "    istep = 1 + ii #current iterate step\n",
    "    print('istep',istep)\n",
    "\n",
    "    Vx = read_pfb(get_absolute_path('./vel_field/hillslope_clm_ER_shrub.out.velx.' \\\n",
    "                                    +str(istep+p_start).zfill(5)+'.pfb'))\n",
    "    Vy = read_pfb(get_absolute_path('./vel_field/hillslope_clm_ER_shrub.out.vely.' \\\n",
    "                                    +str(istep+p_start).zfill(5)+'.pfb'))\n",
    "    Vz = read_pfb(get_absolute_path('./vel_field/hillslope_clm_ER_shrub.out.velz.' \\\n",
    "                                    +str(istep+p_start).zfill(5)+'.pfb'))\n",
    "    Saturation = read_pfb(get_absolute_path('./vel_field/hillslope_clm_ER_shrub.out.satur.' \\\n",
    "                                            +str(istep+p_start).zfill(5)+'.pfb'))\n",
    "    Porosity = read_pfb(get_absolute_path('./vel_field/hillslope_clm_ER_shrub.out.porosity.pfb'))\n",
    "    # print(Vx.shape, Vy.shape, Vz.shape)\n",
    "\n",
    "    if real_path == 'False' or (istep == t_start + 1 and real_path == 'True'):\n",
    "        #setup initial location\n",
    "        initx,inity,initz = init_location(npcell,nx,ny,nz,dx,dy,dz)\n",
    "        # initz[1,0,:,:]\n",
    "\n",
    "        #cal locid\n",
    "        Px = np.copy(initx)\n",
    "        Py = np.copy(inity)\n",
    "        Pz = np.copy(initz)\n",
    "        \n",
    "        print('real_path',real_path)\n",
    "    \n",
    "    if istep != t_start + 1 and real_path == 'True':\n",
    "        initx = np.copy(Px)\n",
    "        inity = np.copy(Py)\n",
    "        initz = np.copy(Pz)\n",
    "        \n",
    "        print('real_path',real_path)\n",
    "\n",
    "    Plocx = np.floor(Px/dx)\n",
    "    Plocy = np.floor(Py/dy)\n",
    "    Plocz = cal_z_locid(npcell,nx,ny,nz,dz,Pz)\n",
    "\n",
    "    # cal vel loc\n",
    "    # this can be got by random number directly\n",
    "    # but for multiple steps, we still need to calculate\n",
    "    # so we provide the template here\n",
    "    # we may also calculate it from random number\n",
    "    # i mean like add the intial fraction with the new_distance/vel\n",
    "    # but additional other calculation may need\n",
    "\n",
    "    Clocx = (Px - Plocx*dx)/dx\n",
    "    Clocy = (Py - Plocy*dy)/dy\n",
    "    Clocz = cal_velz_loc(npcell,nx,ny,nz,dz,Pz,Plocz)\n",
    "\n",
    "    Vpx, Vpy, Vpz = interpolate_vel(npcell,nx,ny,nz,Plocx,Plocy,Plocz,Clocx,Clocy,Clocz, \\\n",
    "                                   Vx,Vy,Vz,Saturation,Porosity)\n",
    "\n",
    "    Px = Px + Vpx\n",
    "    Py = Py + Vpy\n",
    "    Pz = Pz + Vpz\n",
    "\n",
    "    tt,initx,inity,initz,Px,Py,Pz = data_normalize(istep,interval,step_size,t_start,t_end, \\\n",
    "                                                   initx,inity,initz,Px,Py,Pz,boundings)\n",
    "\n",
    "    start_train_new, end_train_new, time_train_new = To_Tensor(0,npcell-testsize,nx,ny,nz,initx,inity,initz,Px,Py,Pz,tt)\n",
    "    start_test_new, end_test_new, time_test_new = To_Tensor(npcell-testsize,npcell,nx,ny,nz,initx,inity,initz,Px,Py,Pz,tt)\n",
    "    \n",
    "    if istep == t_start + 1:\n",
    "        start_train = start_train_new\n",
    "        end_train   = end_train_new\n",
    "        time_train  = time_train_new\n",
    "        \n",
    "        start_test  = start_test_new\n",
    "        end_test    = end_test_new\n",
    "        time_test   = time_test_new\n",
    "        \n",
    "    else:\n",
    "        \n",
    "        start_train = torch.cat((start_train, start_train_new),dim=0)\n",
    "        end_train   = torch.cat((end_train, end_train_new),dim=0)\n",
    "        time_train  = torch.cat((time_train, time_train_new),dim=0)\n",
    "        \n",
    "        start_test  = torch.cat((start_test, start_test_new),dim=0)\n",
    "        end_test    = torch.cat((end_test, end_test_new),dim=0)\n",
    "        time_test   = torch.cat((time_test, time_test_new),dim=0)"
   ]
  },
  {
   "cell_type": "code",
   "execution_count": 8,
   "id": "f0f65881-1c1c-461d-9acd-96c61b6fe850",
   "metadata": {
    "tags": []
   },
   "outputs": [],
   "source": [
    "data_train = TensorDataset(start_train,end_train,time_train)\n",
    "data_test = TensorDataset(start_test,end_test,time_test)"
   ]
  },
  {
   "cell_type": "code",
   "execution_count": 6,
   "id": "f9b6e906-9014-4f94-8d3e-7dec818a13c7",
   "metadata": {
    "tags": []
   },
   "outputs": [],
   "source": [
    "torch.save(data_train,'data_train.pth')\n",
    "torch.save(data_test,'data_test.pth')"
   ]
  },
  {
   "cell_type": "code",
   "execution_count": 9,
   "id": "3a0db146-10fc-492f-b0c4-69b13da741c2",
   "metadata": {
    "tags": []
   },
   "outputs": [
    {
     "name": "stdout",
     "output_type": "stream",
     "text": [
      "(tensor([-0.9045, -0.6214, -0.9085]), tensor([-0.9046, -0.6214, -0.9084]), tensor([-0.9500]))\n",
      "(tensor([-0.8883, -0.9401, -0.9543]), tensor([-0.8884, -0.9401, -0.9543]), tensor([-0.9500]))\n",
      "(tensor([-0.7216, -0.8252, -0.9748]), tensor([-0.7217, -0.8252, -0.9748]), tensor([-0.9500]))\n",
      "(tensor([-0.6613, -0.9579, -0.9624]), tensor([-0.6614, -0.9579, -0.9624]), tensor([-0.9500]))\n",
      "(tensor([-0.5734, -0.9281, -0.9235]), tensor([-0.5735, -0.9281, -0.9235]), tensor([-0.9500]))\n",
      "(tensor([-0.4884, -0.7740, -0.9482]), tensor([-0.4885, -0.7740, -0.9482]), tensor([-0.9500]))\n",
      "(tensor([-0.3908, -0.9325, -0.9647]), tensor([-0.3909, -0.9325, -0.9647]), tensor([-0.9500]))\n",
      "(tensor([-0.2318, -0.7606, -0.9363]), tensor([-0.2319, -0.7606, -0.9363]), tensor([-0.9500]))\n",
      "(tensor([-0.1292, -0.9018, -0.9174]), tensor([-0.1293, -0.9018, -0.9174]), tensor([-0.9500]))\n",
      "(tensor([-0.0350, -0.6687, -0.9213]), tensor([-0.0351, -0.6687, -0.9213]), tensor([-0.9500]))\n",
      "(tensor([ 0.0490, -0.6279, -0.9313]), tensor([ 0.0489, -0.6279, -0.9313]), tensor([-0.9500]))\n"
     ]
    }
   ],
   "source": [
    "count = 0\n",
    "for x in data_train:#generator\n",
    "    print(x)\n",
    "    count = count + 1\n",
    "    if count > 10: break"
   ]
  },
  {
   "cell_type": "code",
   "execution_count": null,
   "id": "0bb78001-4b00-4da0-8b8e-68e130e28b96",
   "metadata": {},
   "outputs": [],
   "source": []
  }
 ],
 "metadata": {
  "kernelspec": {
   "display_name": "Python 3 (ipykernel)",
   "language": "python",
   "name": "python3"
  },
  "language_info": {
   "codemirror_mode": {
    "name": "ipython",
    "version": 3
   },
   "file_extension": ".py",
   "mimetype": "text/x-python",
   "name": "python",
   "nbconvert_exporter": "python",
   "pygments_lexer": "ipython3",
   "version": "3.11.4"
  }
 },
 "nbformat": 4,
 "nbformat_minor": 5
}
