{
 "cells": [
  {
   "cell_type": "code",
   "execution_count": 89,
   "id": "5e0641cb-b789-42c8-8563-cef96cb83967",
   "metadata": {
    "tags": []
   },
   "outputs": [],
   "source": [
    "%reset -f\n",
    "from parflow import Run\n",
    "from parflow.tools.fs import get_absolute_path\n",
    "from parflow.tools.io import write_pfb, read_pfb\n",
    "import numpy as np\n",
    "from matplotlib import pyplot as plt\n",
    "# from parflow.tools.hydrology import calculate_water_table_depth, \\\n",
    "# calculate_overland_flow_grid, calculate_overland_fluxes\n",
    "# %matplotlib widget"
   ]
  },
  {
   "cell_type": "code",
   "execution_count": 90,
   "id": "109fffd7-fa68-48e8-a0c9-67178f9d1103",
   "metadata": {
    "tags": []
   },
   "outputs": [
    {
     "name": "stdout",
     "output_type": "stream",
     "text": [
      "[0.  0.5 1.  1.5 2.  2.5 3.  3.5 4.  4.5 5.  5.5 6.  6.5 7.  7.5 8.  8.5\n",
      " 9.  9.3]\n"
     ]
    }
   ],
   "source": [
    "nx = 20\n",
    "ny = 5\n",
    "nz = 20\n",
    "dx = 5\n",
    "dy = 0.2\n",
    "dz = np.array([0.5, 0.5, 0.5, 0.5, 0.5, 0.5, 0.5, 0.5, 0.5, 0.5, \\\n",
    "               0.5, 0.5, 0.5, 0.5, 0.5, 0.5, 0.5, 0.5, 0.3, 0.1])\n",
    "\n",
    "ztemp = np.cumsum(dz) - dz\n",
    "\n",
    "print(ztemp)"
   ]
  },
  {
   "cell_type": "code",
   "execution_count": 91,
   "id": "1411349b-efb0-4112-8443-af548410ac4c",
   "metadata": {
    "tags": []
   },
   "outputs": [],
   "source": [
    "Vx = read_pfb(get_absolute_path('./vel_field/hillslope_clm_ER_shrub.out.velx.43800.pfb'))\n",
    "Vy = read_pfb(get_absolute_path('./vel_field/hillslope_clm_ER_shrub.out.vely.43800.pfb'))\n",
    "Vz = read_pfb(get_absolute_path('./vel_field/hillslope_clm_ER_shrub.out.velz.43800.pfb'))\n",
    "Saturation = read_pfb(get_absolute_path('./vel_field/hillslope_clm_ER_shrub.out.satur.43800.pfb'))\n",
    "Porosity = read_pfb(get_absolute_path('./vel_field/hillslope_clm_ER_shrub.out.porosity.pfb'))\n",
    "# print(Vx.shape, Vy.shape, Vz.shape)"
   ]
  },
  {
   "cell_type": "code",
   "execution_count": 92,
   "id": "43dca314-f810-49d3-8aaa-a35e3a309ab8",
   "metadata": {
    "tags": []
   },
   "outputs": [],
   "source": [
    "#setup indices\n",
    "\n",
    "indx = np.zeros((nz,ny,nx))\n",
    "for i in range(nx):  \n",
    "    indx[:,:,i] = np.ones((nz,ny)) * i\n",
    "# print(indx[10,:,:])\n",
    "\n",
    "indy = np.zeros((nz,ny,nx))\n",
    "for j in range(ny):  \n",
    "    indy[:,j,:] = np.ones((nz,nx)) * j\n",
    "# print(indy[10,:,:])\n",
    "\n",
    "indz = np.zeros((nz,ny,nx))\n",
    "for k in range(nz):  \n",
    "    indz[k,:,:] = np.ones((ny,nx)) * k\n",
    "# print(indz[10,:,:])"
   ]
  },
  {
   "cell_type": "code",
   "execution_count": 93,
   "id": "4ad91486-ca14-4985-b118-749ad89031e1",
   "metadata": {
    "tags": []
   },
   "outputs": [],
   "source": [
    "#setup initial location\n",
    "npcell = 40\n",
    "# how many particles in a grid cell\n",
    "\n",
    "initx = np.zeros((npcell,nz,ny,nx))\n",
    "inity = np.zeros((npcell,nz,ny,nx))\n",
    "initz = np.zeros((npcell,nz,ny,nx))\n",
    "\n",
    "# generate random numbers\n",
    "# uniform distribution between 0 and 1 with mean of 0.5 and std of 1/(2*sqrt(3))\n",
    "\n",
    "for i in range(npcell):\n",
    "    randx = np.random.uniform(low=0.0, high=1.0, size=(nz,ny,nx))\n",
    "    randy = np.random.uniform(low=0.0, high=1.0, size=(nz,ny,nx))\n",
    "    randz = np.random.uniform(low=0.0, high=1.0, size=(nz,ny,nx))\n",
    "    initx[i,:,:,:] = (indx + randx)*dx\n",
    "    inity[i,:,:,:] = (indy + randy)*dy\n",
    "    initz[i,:,:,:] = randz*dz[:, np.newaxis, np.newaxis] + \\\n",
    "                     ztemp[:, np.newaxis, np.newaxis]\n",
    "# initz[1,0,:,:]"
   ]
  },
  {
   "cell_type": "code",
   "execution_count": 94,
   "id": "90341191-a178-4fee-9afe-3f5a4c33fb63",
   "metadata": {
    "tags": []
   },
   "outputs": [],
   "source": [
    "#cal locid\n",
    "Px = np.copy(initx)\n",
    "Py = np.copy(inity)\n",
    "Pz = np.copy(initz)\n",
    "\n",
    "Plocx = np.floor(Px/dx)\n",
    "Plocy = np.floor(Py/dy)\n",
    "\n",
    "# Plocz = np.where(ztemp == Pz[:,:,:,:,None])[4]\n",
    "# Plocz = Plocz.reshape(npcell,nz,ny,nx)\n",
    "Plocz = np.zeros((npcell,nz,ny,nx))\n",
    "\n",
    "for ii in range(npcell):\n",
    "    for i in range(nz):\n",
    "        for j in range(ny):\n",
    "            for k in range(nx):\n",
    "                zz = 0\n",
    "                for ll in range(nz):\n",
    "                    zz = zz + dz[ll]\n",
    "                    if zz >= Pz[ii,i,j,k]:\n",
    "                        Plocz[ii,i,j,k] = ll\n",
    "                        break            "
   ]
  },
  {
   "cell_type": "code",
   "execution_count": 95,
   "id": "2bee5f43-9c75-4b57-b7e7-bc1e188f73bf",
   "metadata": {
    "tags": []
   },
   "outputs": [],
   "source": [
    "# cal vel loc\n",
    "# this can be got by random number directly\n",
    "# but for multiple steps, we still need to calculate\n",
    "# so we provide the template here\n",
    "# we may also calculate it from random number\n",
    "# i mean like add the intial fraction with the new_distance/vel\n",
    "# but additional other calculation may need\n",
    "\n",
    "Clocx = (Px - Plocx*dx)/dx\n",
    "Clocy = (Py - Plocy*dy)/dy\n",
    "Clocz = np.zeros((npcell,nz,ny,nx))\n",
    "\n",
    "for ii in range(npcell):\n",
    "    for i in range(nz):\n",
    "        for j in range(ny):\n",
    "            for k in range(nx):\n",
    "                zz = 0\n",
    "                temp = int(Plocz[ii,i,j,k])\n",
    "                if temp > 0:\n",
    "                    zz = np.sum(dz[0:temp])\n",
    "                Clocz[ii,i,j,k] = (Pz[ii,i,j,k] - zz)/dz[temp]"
   ]
  },
  {
   "cell_type": "code",
   "execution_count": 96,
   "id": "408e6b9d-b1f6-4b80-a04f-5db5f0576bcc",
   "metadata": {
    "tags": []
   },
   "outputs": [],
   "source": [
    "Vpx = np.zeros((npcell,nz,ny,nx))\n",
    "Vpy = np.zeros((npcell,nz,ny,nx))\n",
    "Vpz = np.zeros((npcell,nz,ny,nx))\n",
    "\n",
    "for ii in range(npcell):\n",
    "    for i in range(nz):\n",
    "        for j in range(ny):\n",
    "            for k in range(nx):\n",
    "                \n",
    "                tempx = int(Plocx[ii,i,j,k])\n",
    "                tempy = int(Plocy[ii,i,j,k])\n",
    "                tempz = int(Plocz[ii,i,j,k])\n",
    "                    \n",
    "                Vpx[ii,i,j,k] = ((1 - Clocx[ii,i,j,k])*Vx[tempz,tempy,tempx] + \\\n",
    "                                Clocx[ii,i,j,k]*Vx[tempz,tempy,tempx+1])/ \\\n",
    "                                Saturation[tempz,tempy,tempx]/Porosity[tempz,tempy,tempx]\n",
    "                \n",
    "                Vpy[ii,i,j,k] = ((1 - Clocy[ii,i,j,k])*Vy[tempz,tempy,tempx] + \\\n",
    "                                Clocy[ii,i,j,k]*Vy[tempz,tempy+1,tempx])/ \\\n",
    "                                Saturation[tempz,tempy,tempx]/Porosity[tempz,tempy,tempx]\n",
    "                \n",
    "                Vpz[ii,i,j,k] = ((1 - Clocz[ii,i,j,k])*Vz[tempz,tempy,tempx] + \\\n",
    "                                Clocz[ii,i,j,k]*Vz[tempz+1,tempy,tempx])/ \\\n",
    "                                Saturation[tempz,tempy,tempx]/Porosity[tempz,tempy,tempx]"
   ]
  },
  {
   "cell_type": "code",
   "execution_count": 97,
   "id": "fd3e4ee5-a744-485e-b49e-2808fbb7b196",
   "metadata": {},
   "outputs": [],
   "source": [
    "Px = Px + Vpx\n",
    "Py = Py + Vpy\n",
    "Pz = Pz + Vpz"
   ]
  },
  {
   "cell_type": "code",
   "execution_count": 98,
   "id": "4919d87c-eb1c-4d93-8817-e2e4cdd99f49",
   "metadata": {
    "tags": []
   },
   "outputs": [],
   "source": [
    "import torch\n",
    "from torch.utils.data import TensorDataset\n",
    "\n",
    "boundings = np.array([0., 100., 0., 1., 0., 9.4])\n",
    "minval = -1\n",
    "maxval = 1\n",
    "i = 1\n",
    "interval = 1\n",
    "step_size = 1\n",
    "t_start = 0\n",
    "t_end = 10\n",
    "\n",
    "Px = (Px - boundings[0]) / (boundings[1] - boundings[0]) * (maxval - minval) +  minval\n",
    "Py = (Py - boundings[2]) / (boundings[3] - boundings[2]) * (maxval - minval) +  minval\n",
    "Pz = (Pz - boundings[4]) / (boundings[5] - boundings[4]) * (maxval - minval) +  minval\n",
    "\n",
    "initx = (initx - boundings[0]) / (boundings[1] - boundings[0]) * (maxval - minval) +  minval\n",
    "inity = (inity - boundings[2]) / (boundings[3] - boundings[2]) * (maxval - minval) +  minval\n",
    "initz = (initz - boundings[4]) / (boundings[5] - boundings[4]) * (maxval - minval) +  minval\n",
    "\n",
    "t = (i * interval * step_size - t_start) / (t_end - t_start) * (maxval - minval) +  minval ## start time   \n",
    "\n",
    "start = torch.zeros(npcell*nz*ny*nx,3)\n",
    "end   = torch.zeros(npcell*nz*ny*nx,3)\n",
    "time  = torch.zeros(npcell*nz*ny*nx,1)\n",
    "\n",
    "count = 0\n",
    "for ii in range(npcell):\n",
    "    for i in range(nz):\n",
    "        for j in range(ny):\n",
    "            for k in range(nx):  \n",
    "                \n",
    "                start[count,:,] = torch.FloatTensor([initx[ii,i,j,k],inity[ii,i,j,k],initz[ii,i,j,k]])\n",
    "                end[count,:]    = torch.FloatTensor([Px[ii,i,j,k],Py[ii,i,j,k],Pz[ii,i,j,k]])\n",
    "                # time[count]     = torch.FloatTensor(np.array([t]).reshape(-1,1))\n",
    "                time[count]     = torch.FloatTensor([t]).reshape(-1,1)\n",
    "                count           = count + 1"
   ]
  },
  {
   "cell_type": "code",
   "execution_count": 99,
   "id": "ffd0fadd-0d7d-44f6-81dc-b1f90c51bb86",
   "metadata": {
    "tags": []
   },
   "outputs": [],
   "source": [
    "data = TensorDataset(start,end,time)\n",
    "torch.save(data,'data.pth')"
   ]
  },
  {
   "cell_type": "code",
   "execution_count": 100,
   "id": "3a0db146-10fc-492f-b0c4-69b13da741c2",
   "metadata": {
    "tags": []
   },
   "outputs": [
    {
     "name": "stdout",
     "output_type": "stream",
     "text": [
      "(tensor([-0.9173, -0.6983, -0.8947]), tensor([-0.9174, -0.6983, -0.8947]), tensor([-0.8000]))\n",
      "(tensor([-0.8658, -0.7437, -0.9387]), tensor([-0.8659, -0.7437, -0.9387]), tensor([-0.8000]))\n",
      "(tensor([-0.7006, -0.8168, -0.8957]), tensor([-0.7007, -0.8168, -0.8957]), tensor([-0.8000]))\n",
      "(tensor([-0.6837, -0.7101, -0.9276]), tensor([-0.6838, -0.7101, -0.9276]), tensor([-0.8000]))\n",
      "(tensor([-0.5306, -0.8171, -0.9151]), tensor([-0.5307, -0.8171, -0.9151]), tensor([-0.8000]))\n",
      "(tensor([-0.4261, -0.9108, -0.9358]), tensor([-0.4262, -0.9108, -0.9358]), tensor([-0.8000]))\n",
      "(tensor([-0.3613, -0.7083, -0.9005]), tensor([-0.3614, -0.7083, -0.9005]), tensor([-0.8000]))\n",
      "(tensor([-0.2651, -0.7945, -0.9038]), tensor([-0.2652, -0.7945, -0.9039]), tensor([-0.8000]))\n",
      "(tensor([-0.1263, -0.7133, -0.9602]), tensor([-0.1264, -0.7133, -0.9602]), tensor([-0.8000]))\n",
      "(tensor([-0.0202, -0.8562, -0.9074]), tensor([-0.0203, -0.8562, -0.9074]), tensor([-0.8000]))\n",
      "(tensor([ 0.0173, -0.9313, -0.9578]), tensor([ 0.0172, -0.9313, -0.9578]), tensor([-0.8000]))\n",
      "(tensor([ 0.1607, -0.7273, -0.9116]), tensor([ 0.1606, -0.7273, -0.9116]), tensor([-0.8000]))\n",
      "(tensor([ 0.2931, -0.8483, -0.9121]), tensor([ 0.2930, -0.8483, -0.9121]), tensor([-0.8000]))\n",
      "(tensor([ 0.3622, -0.9797, -0.9264]), tensor([ 0.3621, -0.9797, -0.9264]), tensor([-0.8000]))\n",
      "(tensor([ 0.4275, -0.7377, -0.9433]), tensor([ 0.4274, -0.7377, -0.9433]), tensor([-0.8000]))\n",
      "(tensor([ 0.5855, -0.8217, -0.9926]), tensor([ 0.5854, -0.8217, -0.9926]), tensor([-0.8000]))\n",
      "(tensor([ 0.6743, -0.9687, -0.9501]), tensor([ 0.6742, -0.9687, -0.9501]), tensor([-0.8000]))\n",
      "(tensor([ 0.7305, -0.7376, -0.9208]), tensor([ 0.7304, -0.7376, -0.9208]), tensor([-0.8000]))\n",
      "(tensor([ 0.8470, -0.8660, -0.9479]), tensor([ 0.8469, -0.8660, -0.9479]), tensor([-0.8000]))\n",
      "(tensor([ 0.9630, -0.9837, -0.9752]), tensor([ 0.9630, -0.9837, -0.9752]), tensor([-0.8000]))\n",
      "(tensor([-0.9752, -0.3029, -0.9033]), tensor([-0.9753, -0.3029, -0.9033]), tensor([-0.8000]))\n",
      "(tensor([-0.8691, -0.3383, -0.9452]), tensor([-0.8692, -0.3383, -0.9451]), tensor([-0.8000]))\n",
      "(tensor([-0.7357, -0.3966, -0.9374]), tensor([-0.7358, -0.3966, -0.9374]), tensor([-0.8000]))\n",
      "(tensor([-0.6649, -0.4935, -0.8995]), tensor([-0.6650, -0.4935, -0.8995]), tensor([-0.8000]))\n",
      "(tensor([-0.5313, -0.4786, -0.9700]), tensor([-0.5314, -0.4786, -0.9700]), tensor([-0.8000]))\n",
      "(tensor([-0.4332, -0.4134, -0.9868]), tensor([-0.4333, -0.4134, -0.9868]), tensor([-0.8000]))\n",
      "(tensor([-0.3281, -0.5268, -0.9275]), tensor([-0.3282, -0.5268, -0.9275]), tensor([-0.8000]))\n",
      "(tensor([-0.2018, -0.2073, -0.9465]), tensor([-0.2019, -0.2073, -0.9465]), tensor([-0.8000]))\n",
      "(tensor([-0.1752, -0.4265, -0.8983]), tensor([-0.1753, -0.4265, -0.8983]), tensor([-0.8000]))\n",
      "(tensor([-0.0730, -0.5326, -0.8972]), tensor([-0.0731, -0.5326, -0.8972]), tensor([-0.8000]))\n",
      "(tensor([ 0.0373, -0.4651, -0.9207]), tensor([ 0.0372, -0.4651, -0.9207]), tensor([-0.8000]))\n",
      "(tensor([ 0.1027, -0.2937, -0.9124]), tensor([ 0.1026, -0.2937, -0.9124]), tensor([-0.8000]))\n",
      "(tensor([ 0.2862, -0.4585, -0.9598]), tensor([ 0.2861, -0.4585, -0.9598]), tensor([-0.8000]))\n",
      "(tensor([ 0.3328, -0.5883, -0.9107]), tensor([ 0.3327, -0.5883, -0.9107]), tensor([-0.8000]))\n",
      "(tensor([ 0.4964, -0.3623, -0.9941]), tensor([ 0.4963, -0.3623, -0.9941]), tensor([-0.8000]))\n",
      "(tensor([ 0.5102, -0.5472, -0.9756]), tensor([ 0.5101, -0.5472, -0.9756]), tensor([-0.8000]))\n",
      "(tensor([ 0.6124, -0.5699, -0.9469]), tensor([ 0.6123, -0.5699, -0.9469]), tensor([-0.8000]))\n",
      "(tensor([ 0.7604, -0.4650, -0.8973]), tensor([ 0.7603, -0.4650, -0.8974]), tensor([-0.8000]))\n",
      "(tensor([ 0.8745, -0.4699, -0.9680]), tensor([ 0.8744, -0.4699, -0.9680]), tensor([-0.8000]))\n",
      "(tensor([ 0.9902, -0.2123, -0.9223]), tensor([ 0.9902, -0.2123, -0.9223]), tensor([-0.8000]))\n",
      "(tensor([-0.9727,  0.0883, -0.9826]), tensor([-0.9727,  0.0883, -0.9825]), tensor([-0.8000]))\n",
      "(tensor([-0.8961,  0.0537, -0.9194]), tensor([-0.8962,  0.0537, -0.9194]), tensor([-0.8000]))\n",
      "(tensor([-0.7302, -0.0094, -0.9980]), tensor([-0.7303, -0.0094, -0.9980]), tensor([-0.8000]))\n",
      "(tensor([-0.6786, -0.0289, -0.9091]), tensor([-0.6787, -0.0289, -0.9091]), tensor([-0.8000]))\n",
      "(tensor([-0.5268,  0.0422, -0.9386]), tensor([-0.5269,  0.0422, -0.9386]), tensor([-0.8000]))\n",
      "(tensor([-0.4722,  0.0192, -0.9086]), tensor([-0.4723,  0.0192, -0.9086]), tensor([-0.8000]))\n",
      "(tensor([-0.3442, -0.1047, -0.9330]), tensor([-0.3443, -0.1047, -0.9330]), tensor([-0.8000]))\n",
      "(tensor([-0.2885,  0.0451, -0.9805]), tensor([-0.2886,  0.0451, -0.9805]), tensor([-0.8000]))\n",
      "(tensor([-0.1416,  0.0589, -0.9899]), tensor([-0.1417,  0.0589, -0.9899]), tensor([-0.8000]))\n",
      "(tensor([-0.0620,  0.0281, -0.9231]), tensor([-0.0621,  0.0281, -0.9231]), tensor([-0.8000]))\n",
      "(tensor([ 0.0917, -0.1959, -0.9320]), tensor([ 0.0916, -0.1959, -0.9320]), tensor([-0.8000]))\n",
      "(tensor([ 0.1426,  0.0392, -0.8938]), tensor([ 0.1425,  0.0392, -0.8938]), tensor([-0.8000]))\n",
      "(tensor([ 0.2220,  0.0724, -0.9466]), tensor([ 0.2219,  0.0724, -0.9466]), tensor([-0.8000]))\n",
      "(tensor([ 0.3525,  0.0192, -0.9821]), tensor([ 0.3524,  0.0192, -0.9821]), tensor([-0.8000]))\n",
      "(tensor([ 0.4292, -0.1848, -0.8955]), tensor([ 0.4291, -0.1848, -0.8955]), tensor([-0.8000]))\n",
      "(tensor([ 0.5554,  0.1544, -0.9686]), tensor([ 0.5553,  0.1544, -0.9686]), tensor([-0.8000]))\n",
      "(tensor([ 0.6904,  0.0032, -0.9017]), tensor([ 0.6903,  0.0032, -0.9017]), tensor([-0.8000]))\n",
      "(tensor([ 0.7942, -0.1803, -0.9723]), tensor([ 0.7941, -0.1803, -0.9723]), tensor([-0.8000]))\n",
      "(tensor([ 0.8134,  0.1157, -0.9582]), tensor([ 0.8133,  0.1157, -0.9582]), tensor([-0.8000]))\n",
      "(tensor([ 0.9942, -0.1201, -0.9118]), tensor([ 0.9942, -0.1201, -0.9118]), tensor([-0.8000]))\n",
      "(tensor([-0.9184,  0.5308, -0.9401]), tensor([-0.9185,  0.5308, -0.9401]), tensor([-0.8000]))\n",
      "(tensor([-0.8707,  0.3753, -0.9906]), tensor([-0.8708,  0.3753, -0.9906]), tensor([-0.8000]))\n",
      "(tensor([-0.7098,  0.3779, -0.9341]), tensor([-0.7100,  0.3779, -0.9341]), tensor([-0.8000]))\n",
      "(tensor([-0.6146,  0.2586, -0.9428]), tensor([-0.6147,  0.2586, -0.9428]), tensor([-0.8000]))\n",
      "(tensor([-0.5788,  0.4984, -0.9424]), tensor([-0.5789,  0.4984, -0.9424]), tensor([-0.8000]))\n",
      "(tensor([-0.4516,  0.5478, -0.9869]), tensor([-0.4517,  0.5478, -0.9869]), tensor([-0.8000]))\n",
      "(tensor([-0.3922,  0.5169, -0.9253]), tensor([-0.3923,  0.5169, -0.9253]), tensor([-0.8000]))\n",
      "(tensor([-0.2854,  0.2237, -0.9761]), tensor([-0.2855,  0.2237, -0.9761]), tensor([-0.8000]))\n",
      "(tensor([-0.1248,  0.5371, -0.9439]), tensor([-0.1249,  0.5371, -0.9439]), tensor([-0.8000]))\n",
      "(tensor([-0.0455,  0.3716, -0.9246]), tensor([-0.0456,  0.3716, -0.9246]), tensor([-0.8000]))\n",
      "(tensor([ 0.0552,  0.5788, -0.9500]), tensor([ 0.0551,  0.5788, -0.9500]), tensor([-0.8000]))\n",
      "(tensor([ 0.1555,  0.5854, -0.9405]), tensor([ 0.1554,  0.5854, -0.9405]), tensor([-0.8000]))\n",
      "(tensor([ 0.2769,  0.5323, -0.9346]), tensor([ 0.2768,  0.5323, -0.9346]), tensor([-0.8000]))\n",
      "(tensor([ 0.3544,  0.2247, -0.9598]), tensor([ 0.3543,  0.2247, -0.9598]), tensor([-0.8000]))\n",
      "(tensor([ 0.4993,  0.3883, -0.9642]), tensor([ 0.4992,  0.3883, -0.9642]), tensor([-0.8000]))\n",
      "(tensor([ 0.5510,  0.4716, -0.9588]), tensor([ 0.5509,  0.4716, -0.9588]), tensor([-0.8000]))\n",
      "(tensor([ 0.6593,  0.3640, -0.9139]), tensor([ 0.6592,  0.3640, -0.9139]), tensor([-0.8000]))\n",
      "(tensor([ 0.7121,  0.4188, -0.9196]), tensor([ 0.7121,  0.4188, -0.9196]), tensor([-0.8000]))\n",
      "(tensor([ 0.8167,  0.2326, -0.9257]), tensor([ 0.8166,  0.2326, -0.9257]), tensor([-0.8000]))\n",
      "(tensor([ 0.9360,  0.5102, -0.9540]), tensor([ 0.9360,  0.5102, -0.9540]), tensor([-0.8000]))\n",
      "(tensor([-0.9937,  0.6933, -0.9243]), tensor([-0.9937,  0.6933, -0.9243]), tensor([-0.8000]))\n",
      "(tensor([-0.8275,  0.7068, -0.9212]), tensor([-0.8276,  0.7068, -0.9212]), tensor([-0.8000]))\n",
      "(tensor([-0.7341,  0.7986, -0.9533]), tensor([-0.7342,  0.7986, -0.9532]), tensor([-0.8000]))\n",
      "(tensor([-0.6868,  0.6357, -0.8995]), tensor([-0.6869,  0.6357, -0.8995]), tensor([-0.8000]))\n",
      "(tensor([-0.5422,  0.8403, -0.9864]), tensor([-0.5423,  0.8403, -0.9864]), tensor([-0.8000]))\n",
      "(tensor([-0.4790,  0.6957, -0.9529]), tensor([-0.4791,  0.6957, -0.9529]), tensor([-0.8000]))\n",
      "(tensor([-0.3012,  0.7366, -0.9011]), tensor([-0.3013,  0.7366, -0.9011]), tensor([-0.8000]))\n",
      "(tensor([-0.2774,  0.8392, -0.9150]), tensor([-0.2775,  0.8392, -0.9150]), tensor([-0.8000]))\n",
      "(tensor([-0.1440,  0.6275, -0.9266]), tensor([-0.1441,  0.6275, -0.9266]), tensor([-0.8000]))\n",
      "(tensor([-0.0779,  0.6153, -0.9219]), tensor([-0.0780,  0.6153, -0.9219]), tensor([-0.8000]))\n",
      "(tensor([ 0.0811,  0.6456, -0.9591]), tensor([ 0.0810,  0.6456, -0.9591]), tensor([-0.8000]))\n",
      "(tensor([ 0.1852,  0.7506, -0.9818]), tensor([ 0.1851,  0.7506, -0.9818]), tensor([-0.8000]))\n",
      "(tensor([ 0.2236,  0.6020, -0.9054]), tensor([ 0.2235,  0.6020, -0.9054]), tensor([-0.8000]))\n",
      "(tensor([ 0.3241,  0.8616, -0.9130]), tensor([ 0.3240,  0.8616, -0.9130]), tensor([-0.8000]))\n",
      "(tensor([ 0.4074,  0.8250, -0.9578]), tensor([ 0.4073,  0.8250, -0.9578]), tensor([-0.8000]))\n",
      "(tensor([ 0.5060,  0.9881, -0.9036]), tensor([ 0.5060,  0.9881, -0.9036]), tensor([-0.8000]))\n",
      "(tensor([ 0.6084,  0.8114, -0.9125]), tensor([ 0.6083,  0.8114, -0.9125]), tensor([-0.8000]))\n",
      "(tensor([ 0.7959,  0.7642, -0.9329]), tensor([ 0.7958,  0.7642, -0.9329]), tensor([-0.8000]))\n",
      "(tensor([ 0.8122,  0.7285, -0.9238]), tensor([ 0.8122,  0.7285, -0.9238]), tensor([-0.8000]))\n",
      "(tensor([ 0.9893,  0.7375, -0.9825]), tensor([ 0.9893,  0.7375, -0.9825]), tensor([-0.8000]))\n",
      "(tensor([-0.9292, -0.6828, -0.8160]), tensor([-0.9293, -0.6828, -0.8159]), tensor([-0.8000]))\n"
     ]
    }
   ],
   "source": [
    "count = 0\n",
    "for x in data:#generator\n",
    "    print(x)\n",
    "    count = count + 1\n",
    "    if count > 100: break"
   ]
  },
  {
   "cell_type": "code",
   "execution_count": null,
   "id": "7227bbb0-49f1-45b7-adba-63053b3c30e5",
   "metadata": {},
   "outputs": [],
   "source": []
  }
 ],
 "metadata": {
  "kernelspec": {
   "display_name": "Python 3 (ipykernel)",
   "language": "python",
   "name": "python3"
  },
  "language_info": {
   "codemirror_mode": {
    "name": "ipython",
    "version": 3
   },
   "file_extension": ".py",
   "mimetype": "text/x-python",
   "name": "python",
   "nbconvert_exporter": "python",
   "pygments_lexer": "ipython3",
   "version": "3.11.4"
  }
 },
 "nbformat": 4,
 "nbformat_minor": 5
}
